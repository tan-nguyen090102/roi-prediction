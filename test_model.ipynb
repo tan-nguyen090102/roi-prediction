{
 "cells": [
  {
   "cell_type": "code",
   "execution_count": null,
   "id": "6c7f54f8",
   "metadata": {},
   "outputs": [],
   "source": [
    "import pandas as pd\n",
    "import numpy as np\n",
    "import sys\n",
    "import os\n",
    "from sklearn.preprocessing import StandardScaler\n",
    "from sklearn.model_selection import train_test_split\n",
    "import tensorflow as tf\n",
    "from tensorflow import keras\n",
    "from keras import regularizers\n",
    "from keras.models import load_model\n",
    "import matplotlib.pyplot as plt\n",
    "import joblib\n",
    "import json"
   ]
  },
  {
   "cell_type": "code",
   "execution_count": null,
   "id": "bdb71222",
   "metadata": {},
   "outputs": [],
   "source": [
    "# regulate the base path for different environments\n",
    "if (sys.platform.startswith(\"linux\")):\n",
    "    pathNav = \"/\"\n",
    "else:\n",
    "    pathNav = \"\\\\\"\n",
    "\n",
    "idx = os.path.abspath(\"\").split(pathNav).index(\"roi-prediction\") + 1\n",
    "base_path = pathNav.join(os.path.abspath(\"\").split(pathNav)[:idx])"
   ]
  },
  {
   "cell_type": "code",
   "execution_count": null,
   "id": "cfd068ad",
   "metadata": {},
   "outputs": [],
   "source": [
    "def read_dataframe_from_folder(parent_path, file_name):\n",
    "    return pd.read_csv(base_path + pathNav + parent_path + pathNav + file_name)"
   ]
  },
  {
   "cell_type": "code",
   "execution_count": null,
   "id": "5f42817f",
   "metadata": {},
   "outputs": [],
   "source": [
    "# load model\n",
    "model = load_model(\"v1_model.keras\")\n",
    "\n",
    "df_observed_data = read_dataframe_from_folder(\"datasets_filtered\", \"preprocessed_dataset.csv\")\n",
    "df_FIPS = read_dataframe_from_folder(\"datasets_filtered\", \"FIPS_code.csv\")"
   ]
  },
  {
   "cell_type": "code",
   "execution_count": null,
   "id": "6e69c1c4",
   "metadata": {},
   "outputs": [],
   "source": [
    "def make_data_from_county(df, county_name, start_year, end_year):\n",
    "    # get the rows of that county\n",
    "    df_rows = df[(df['name'].str.contains(county_name, case=False, na=False)) & (df[\"year\"] >= start_year) & (df[\"year\"] <= end_year)]\n",
    "    time_series_list = []\n",
    "\n",
    "    if (df_rows.empty):\n",
    "        return [], []\n",
    "    else:\n",
    "        for index, row in df_rows.iterrows():\n",
    "            gdp = row[\"gdp\"]\n",
    "            unemployment_rate = row[\"unemployment_rate\"]\n",
    "            zhvi = row[\"zhvi\"]\n",
    "            gdp_last_year = row[\"gdp_last_year\"]\n",
    "            unemployment_rate_last_year = row[\"unemployment_rate_last_year\"]\n",
    "            tax_rate = row[\"tax_rate\"]\n",
    "            _4g_pct = row[\"4g_st_pct\"]\n",
    "            median_income = row[\"median_income\"]\n",
    "            population = row[\"population\"]\n",
    "\n",
    "            time_series_list.append([gdp, unemployment_rate, zhvi, gdp_last_year, unemployment_rate_last_year])\n",
    "        \n",
    "        static_series_list = [tax_rate, _4g_pct, median_income, population]\n",
    "\n",
    "        time_series_data = np.array(time_series_list)\n",
    "        static_series_data = np.array(static_series_list)\n",
    "\n",
    "        return time_series_data, static_series_data\n",
    "\n",
    "# geoID: 19103\n",
    "# time_series_data = np.array([\n",
    "#     [10098945, 3.5106870229007634, 226114.939065919, 9956797, 3.7609022556390976],\n",
    "#     [10120081, 5.687313432835821, 232398.62165049397, 10098945, 3.5106870229007634],\n",
    "#     [10824259, 3.875187969924812, 244657.10304912183, 10120081, 5.687313432835821],\n",
    "#     [11428475, 3.2616, 267427.1637093905, 10824259, 3.875187969924812],\n",
    "#     [11947432, 3.415748031496063, 279344.8155526302, 11428475, 3.2616]\n",
    "# ])\n",
    "\n",
    "# static_series_data = np.array([\n",
    "#     0.01565,\n",
    "#     0.9991,\n",
    "#     62214,\n",
    "#     150819\n",
    "# ])"
   ]
  },
  {
   "cell_type": "code",
   "execution_count": null,
   "id": "a8599ade",
   "metadata": {},
   "outputs": [],
   "source": [
    "# get the data for specific county name and state abbreviate\n",
    "county_name = \"Lee, IA\"\n",
    "start_year = 2019\n",
    "end_year = 2023\n",
    "time_series_data, static_series_data = make_data_from_county(df_observed_data, county_name, start_year, end_year)"
   ]
  },
  {
   "cell_type": "code",
   "execution_count": null,
   "id": "f84522fd",
   "metadata": {},
   "outputs": [],
   "source": [
    "# print(time_series_data)\n",
    "# print(static_series_data)"
   ]
  },
  {
   "cell_type": "code",
   "execution_count": null,
   "id": "4ab27c42",
   "metadata": {},
   "outputs": [],
   "source": [
    "# load normal standardization\n",
    "time_series_std = joblib.load(\"time_series_std.pkl\")\n",
    "static_series_std = joblib.load(\"static_series_std.pkl\")\n",
    "time_series_stadardized_data = time_series_std.transform(time_series_data.reshape(-1, 5))\n",
    "static_series_stadardized_data = static_series_std.transform(static_series_data.reshape(1, -1))\n",
    "\n",
    "time_series_stadardized_data = time_series_stadardized_data.reshape(1, 5, 5)\n"
   ]
  },
  {
   "cell_type": "code",
   "execution_count": null,
   "id": "9f29edd4",
   "metadata": {},
   "outputs": [],
   "source": [
    "# print(\"Time-series input shape:\", time_series_stadardized_data.shape)\n",
    "# print(\"Static input shape:\", static_series_stadardized_data.shape) "
   ]
  },
  {
   "cell_type": "code",
   "execution_count": null,
   "id": "b73d1243",
   "metadata": {},
   "outputs": [],
   "source": [
    "prediction = model.predict([time_series_stadardized_data, static_series_stadardized_data])\n",
    "print(f\"Predicted ROI Change: {prediction[0][0]:.2f}%\")"
   ]
  },
  {
   "cell_type": "code",
   "execution_count": null,
   "id": "3110fdbb",
   "metadata": {},
   "outputs": [],
   "source": [
    "# run for every county\n",
    "roi_prediction_list = []\n",
    "start_year = 2019\n",
    "end_year = 2023\n",
    "time_series_std = joblib.load(\"time_series_std.pkl\")\n",
    "static_series_std = joblib.load(\"static_series_std.pkl\")\n",
    "\n",
    "for index, county_row in df_FIPS.iterrows():\n",
    "    county_name = \", \".join([county_row[\"Name\"].split(\" \")[0], county_row[\"StateName\"]])\n",
    "    \n",
    "    time_series_data, static_series_data = make_data_from_county(df_observed_data, county_name, start_year, end_year)\n",
    "    \n",
    "    if (len(time_series_data) != 5):\n",
    "        continue\n",
    "\n",
    "    time_series_stadardized_data = time_series_std.transform(time_series_data.reshape(-1, 5))\n",
    "    static_series_stadardized_data = static_series_std.transform(static_series_data.reshape(1, -1))\n",
    "    time_series_stadardized_data = time_series_stadardized_data.reshape(1, 5, 5)\n",
    "\n",
    "    prediction = model.predict([time_series_stadardized_data, static_series_stadardized_data])\n",
    "\n",
    "    roi_prediction_list.append({ \"county\": county_name, \"next_year_roi\": prediction })\n",
    "    print(county_name, index)"
   ]
  },
  {
   "cell_type": "code",
   "execution_count": null,
   "id": "75f0f9a3",
   "metadata": {},
   "outputs": [],
   "source": [
    "max_roi = 0\n",
    "max_name = \"\"\n",
    "list_of_more_than_target = []\n",
    "target_roi = 8.0\n",
    "\n",
    "for county in roi_prediction_list:\n",
    "    name = county[\"county\"]\n",
    "    roi = round(county[\"next_year_roi\"][0][0], 2)\n",
    "\n",
    "    if (roi > max_roi):\n",
    "        max_roi = roi\n",
    "        max_name = name\n",
    "    \n",
    "    if (roi > target_roi):\n",
    "        list_of_more_than_target.append({ \"county\": name, \"next_year_roi\": float(roi)})\n",
    "\n",
    "print(max_name, max_roi)"
   ]
  },
  {
   "cell_type": "code",
   "execution_count": null,
   "id": "09e19b7e",
   "metadata": {},
   "outputs": [],
   "source": [
    "print(json.dumps(list_of_more_than_target, indent=4))"
   ]
  }
 ],
 "metadata": {
  "kernelspec": {
   "display_name": ".venv",
   "language": "python",
   "name": "python3"
  },
  "language_info": {
   "codemirror_mode": {
    "name": "ipython",
    "version": 3
   },
   "file_extension": ".py",
   "mimetype": "text/x-python",
   "name": "python",
   "nbconvert_exporter": "python",
   "pygments_lexer": "ipython3",
   "version": "3.11.9"
  }
 },
 "nbformat": 4,
 "nbformat_minor": 5
}
