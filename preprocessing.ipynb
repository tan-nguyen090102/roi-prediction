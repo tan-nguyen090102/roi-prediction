{
 "cells": [
  {
   "cell_type": "code",
   "execution_count": 1,
   "id": "fddb804e",
   "metadata": {},
   "outputs": [],
   "source": [
    "import numpy as np\n",
    "import pandas as pd\n",
    "import sys\n",
    "import os\n",
    "from datetime import datetime"
   ]
  },
  {
   "cell_type": "code",
   "execution_count": 2,
   "id": "a2d4d26b",
   "metadata": {},
   "outputs": [],
   "source": [
    "# regulate the base path for different environments\n",
    "if (sys.platform.startswith(\"linux\")):\n",
    "    pathNav = \"/\"\n",
    "else:\n",
    "    pathNav = \"\\\\\"\n",
    "\n",
    "idx = os.path.abspath(\"\").split(pathNav).index(\"roi-prediction\") + 1\n",
    "base_path = pathNav.join(os.path.abspath(\"\").split(pathNav)[:idx])"
   ]
  },
  {
   "cell_type": "code",
   "execution_count": 3,
   "id": "903f057f",
   "metadata": {},
   "outputs": [],
   "source": [
    "def read_dataframe_from_folder(parent_path, file_name):\n",
    "    return pd.read_csv(base_path + pathNav + parent_path + pathNav + file_name)"
   ]
  },
  {
   "cell_type": "code",
   "execution_count": 4,
   "id": "35cabf4c",
   "metadata": {},
   "outputs": [],
   "source": [
    "def write_dataframe_to_folder(df, file_name, destination_path):\n",
    "    if (not os.path.exists(base_path + pathNav + destination_path)):\n",
    "        os.makedirs(base_path + pathNav + destination_path)\n",
    "\n",
    "    df.to_csv(base_path + pathNav + destination_path + pathNav + file_name, sep=\",\", index=False, encoding=\"utf-8\", header=True)"
   ]
  },
  {
   "cell_type": "code",
   "execution_count": 5,
   "id": "e5507a28",
   "metadata": {},
   "outputs": [],
   "source": [
    "# sort dataframe\n",
    "def sort_dataframe_on_column(df, target_columns, groupby_column=None):\n",
    "    if (groupby_column == None):\n",
    "        df = df.sort_values(by=target_columns, ascending=True).apply(lambda a: a[:]).reset_index()\n",
    "    else:    \n",
    "        df = df.sort_values(by=target_columns, ascending=True).groupby(groupby_column).apply(lambda a: a[:], include_groups=False).reset_index()\n",
    " \n",
    "    df = df.reset_index()\n",
    "    df.drop(\"index\", axis=1, inplace=True)\n",
    "    df.drop(\"level_0\", axis=1, inplace=True)\n",
    "    return df"
   ]
  },
  {
   "cell_type": "code",
   "execution_count": 6,
   "id": "3150b875",
   "metadata": {},
   "outputs": [],
   "source": [
    "def pad_column_with_zeros(df, target_column, desired_length):\n",
    "    df[target_column] = df[target_column].astype(str).str.zfill(desired_length)\n",
    "    return df"
   ]
  },
  {
   "cell_type": "code",
   "execution_count": 7,
   "id": "957c8752",
   "metadata": {},
   "outputs": [],
   "source": [
    "def clean_fips(df, target_column):\n",
    "    df[target_column] = df[target_column].astype(str).str.replace('\"', '').str.zfill(5)\n",
    "    return df"
   ]
  },
  {
   "cell_type": "code",
   "execution_count": 8,
   "id": "2b7e78f0",
   "metadata": {},
   "outputs": [],
   "source": [
    "# function to rename some certain columns\n",
    "def rename_columns(df, target_columns, new_values):\n",
    "    rename_dict = dict(zip(target_columns, new_values))\n",
    "\n",
    "    return df.rename(columns=rename_dict)"
   ]
  },
  {
   "cell_type": "code",
   "execution_count": 9,
   "id": "08459898",
   "metadata": {},
   "outputs": [],
   "source": [
    "# join columns into dataframe\n",
    "def left_join_dataframe(df_1, df_2, columns):\n",
    "    df_1 = pd.merge(df_1, df_2, on=columns)\n",
    "\n",
    "    return df_1"
   ]
  },
  {
   "cell_type": "code",
   "execution_count": 10,
   "id": "51563dda",
   "metadata": {},
   "outputs": [],
   "source": [
    "# read all datasets\n",
    "df_county_gdp = read_dataframe_from_folder(\"datasets_filtered\", \"county_gdp.csv\")\n",
    "df_population = read_dataframe_from_folder(\"datasets_filtered\", \"demographic.csv\")\n",
    "df_zhvi = read_dataframe_from_folder(\"datasets_filtered\", \"zhvi.csv\")\n",
    "df_FIPS = read_dataframe_from_folder(\"datasets_filtered\", \"FIPS_code.csv\")\n",
    "df_median_income = read_dataframe_from_folder(\"datasets_filtered\", \"median_income.csv\")\n",
    "df_unemployment_rate = read_dataframe_from_folder(\"datasets_filtered\", \"unemployment.csv\")\n",
    "df_property_tax_rate = read_dataframe_from_folder(\"datasets_filtered\", \"property_tax.csv\")\n",
    "df_mobile_broadband = read_dataframe_from_folder(\"datasets_filtered\", \"mobile_broadband.csv\")"
   ]
  },
  {
   "cell_type": "code",
   "execution_count": 11,
   "id": "2ddd87d8",
   "metadata": {},
   "outputs": [],
   "source": [
    "# fill some column to have consistent value\n",
    "df_FIPS = pad_column_with_zeros(df_FIPS, \"geoID\", 5)\n",
    "df_county_gdp = clean_fips(df_county_gdp, \"geoID\")\n",
    "df_zhvi = pad_column_with_zeros(df_zhvi, \"geoID\", 5)\n",
    "df_unemployment_rate = pad_column_with_zeros(df_unemployment_rate, \"geoID\", 5)\n",
    "df_mobile_broadband = pad_column_with_zeros(df_mobile_broadband, \"geoID\", 5)\n",
    "df_population = pad_column_with_zeros(df_population, \"geoID\", 5)\n",
    "\n",
    "# redo geoID object to int64\n",
    "df_mobile_broadband[\"geoID\"] = pd.to_numeric(df_mobile_broadband[\"geoID\"], errors=\"coerce\")\n",
    "df_median_income[\"geoID\"] = pd.to_numeric(df_median_income[\"geoID\"], errors=\"coerce\")\n",
    "\n",
    "# rename\n",
    "df_population = rename_columns(df_population, [\"estimate\"], [\"population\"])\n",
    "df_median_income = rename_columns(df_median_income, [\"estimate\"], [\"median_income\"])"
   ]
  },
  {
   "cell_type": "code",
   "execution_count": 12,
   "id": "41909251",
   "metadata": {},
   "outputs": [],
   "source": [
    "# reshape dataset into yearly data\n",
    "df_county_gdp_yearly = df_county_gdp.melt(\n",
    "    id_vars=[\"geoID\", \"name\"],\n",
    "    value_vars=[str(year) for year in range(2013, 2024)],\n",
    "    var_name=\"year\",\n",
    "    value_name=\"gdp\"\n",
    ")\n",
    "df_county_gdp_yearly[\"year\"] = df_county_gdp_yearly[\"year\"].astype(int)\n",
    "\n",
    "# sort\n",
    "df_county_gdp_yearly = sort_dataframe_on_column(df_county_gdp_yearly, [\"geoID\", \"year\"])"
   ]
  },
  {
   "cell_type": "code",
   "execution_count": 13,
   "id": "89d62bdc",
   "metadata": {},
   "outputs": [],
   "source": [
    "df_zhvi_yearly = df_zhvi.melt(\n",
    "    id_vars=[\"geoID\", \"RegionName\"],\n",
    "    value_vars=[col for col in df_zhvi.columns if col.startswith(\"20\")],\n",
    "    var_name=\"date\",\n",
    "    value_name=\"zhvi\"\n",
    ")\n",
    "df_zhvi_yearly[\"year\"] = pd.to_datetime(df_zhvi_yearly[\"date\"]).dt.year\n",
    "df_zhvi_yearly = df_zhvi_yearly.groupby([\"geoID\", \"year\"])[\"zhvi\"].mean().reset_index()"
   ]
  },
  {
   "cell_type": "code",
   "execution_count": 14,
   "id": "9aa7f861",
   "metadata": {},
   "outputs": [],
   "source": [
    "df_unemployment_rate[\"year\"] = pd.to_datetime(df_unemployment_rate[\"date\"]).dt.year\n",
    "df_unemployment_rate_yearly = df_unemployment_rate.groupby([\"geoID\", \"year\"])[\"unemployment_rate\"].mean().reset_index()"
   ]
  },
  {
   "cell_type": "code",
   "execution_count": 15,
   "id": "46970425",
   "metadata": {},
   "outputs": [],
   "source": [
    "# clean geoID and year for merging\n",
    "for df in [df_zhvi_yearly, df_unemployment_rate_yearly, df_county_gdp_yearly]:\n",
    "    df[\"geoID\"] = df[\"geoID\"].astype(str).str.strip()\n",
    "    df[\"year\"] = df[\"year\"].astype(int)\n",
    "\n",
    "for df in [df_property_tax_rate, df_mobile_broadband, df_median_income, df_population]:\n",
    "    df[\"geoID\"] = df[\"geoID\"].astype(str).str.strip()\n",
    "    df = pad_column_with_zeros(df, \"geoID\", 5)"
   ]
  },
  {
   "cell_type": "code",
   "execution_count": 17,
   "id": "e86c6af9",
   "metadata": {},
   "outputs": [],
   "source": [
    "# reshape and merge static datasets\n",
    "df_static = df_property_tax_rate[[\"geoID\", \"tax_rate\"]]\n",
    "df_static = df_static.merge(df_mobile_broadband[[\"geoID\", \"4g_st_pct\"]], on=\"geoID\", how=\"left\")\n",
    "df_static = df_static.merge(df_median_income[[\"geoID\", \"median_income\"]], on=\"geoID\", how=\"left\")\n",
    "df_static = df_static.merge(df_population[[\"geoID\", \"population\"]], on=\"geoID\", how=\"left\")"
   ]
  },
  {
   "cell_type": "code",
   "execution_count": 18,
   "id": "4ff29a9c",
   "metadata": {},
   "outputs": [],
   "source": [
    "# merge time-series datasets\n",
    "df_time_series = df_zhvi_yearly\n",
    "df_time_series = df_time_series.merge(df_unemployment_rate_yearly, on=[\"geoID\", \"year\"], how=\"outer\")\n",
    "df_time_series = df_time_series.merge(df_county_gdp_yearly, on=[\"geoID\", \"year\"], how=\"outer\")"
   ]
  },
  {
   "cell_type": "code",
   "execution_count": 19,
   "id": "8ef87c4f",
   "metadata": {},
   "outputs": [],
   "source": [
    "# merge static file with time series file\n",
    "df_all_data = pd.merge(df_static, df_time_series, on=\"geoID\", how=\"left\")"
   ]
  },
  {
   "cell_type": "code",
   "execution_count": 20,
   "id": "6deceb84",
   "metadata": {},
   "outputs": [],
   "source": [
    "# calculate ROI on each year and put in file\n",
    "df_all_data[\"roi\"] = (df_all_data.groupby(\"geoID\")[\"zhvi\"].transform(lambda x: x.ffill().pct_change(fill_method=None)) * 100)\n",
    "\n",
    "# put in the previous years' gdp and unemployment\n",
    "df_all_data[\"gdp_last_year\"] = df_all_data.groupby(\"geoID\")[\"gdp\"].shift(1)\n",
    "df_all_data[\"unemployment_rate_last_year\"] = df_all_data.groupby(\"geoID\")[\"unemployment_rate\"].shift(1)"
   ]
  },
  {
   "cell_type": "code",
   "execution_count": 21,
   "id": "00ff68a0",
   "metadata": {},
   "outputs": [],
   "source": [
    "# drop counties that has no value on unemployment rate\n",
    "problem_counties = ['Petersburg Borough, AK*', 'LaSalle, LA', 'Doña Ana, NM']\n",
    "df_all_data = df_all_data[~df_all_data['name'].isin(problem_counties)]\n",
    "\n",
    "# imputation of missing data\n",
    "df_all_data[\"gdp\"] = df_all_data.groupby(\"geoID\")[\"gdp\"].ffill()\n",
    "df_all_data[\"zhvi\"] = df_all_data.groupby(\"geoID\")[\"zhvi\"].ffill()\n",
    "df_all_data[\"unemployment_rate\"] = df_all_data.groupby(\"geoID\")[\"unemployment_rate\"].transform(lambda x: x.interpolate().fillna(x.mean()))\n",
    "\n",
    "df_all_data = df_all_data.dropna(subset=[\"roi\"])\n",
    "\n",
    "# drop rows that does not have county info\n",
    "df_all_data = df_all_data.dropna(subset=[\"name\", \"gdp\"], how=\"all\")\n",
    "\n",
    "\n",
    "df_all_data[\"year\"] = df_all_data[\"year\"].astype(int)"
   ]
  },
  {
   "cell_type": "code",
   "execution_count": 22,
   "id": "f2fe1704",
   "metadata": {},
   "outputs": [],
   "source": [
    "write_dataframe_to_folder(df_all_data, \"preprocessed_dataset.csv\", \"datasets_filtered\")"
   ]
  }
 ],
 "metadata": {
  "kernelspec": {
   "display_name": ".venv",
   "language": "python",
   "name": "python3"
  },
  "language_info": {
   "codemirror_mode": {
    "name": "ipython",
    "version": 3
   },
   "file_extension": ".py",
   "mimetype": "text/x-python",
   "name": "python",
   "nbconvert_exporter": "python",
   "pygments_lexer": "ipython3",
   "version": "3.11.9"
  }
 },
 "nbformat": 4,
 "nbformat_minor": 5
}
